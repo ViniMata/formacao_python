{
 "cells": [
  {
   "cell_type": "markdown",
   "metadata": {},
   "source": [
    "# Exercicios"
   ]
  },
  {
   "cell_type": "markdown",
   "metadata": {},
   "source": [
    "##### Exercicio 0"
   ]
  },
  {
   "cell_type": "code",
   "execution_count": null,
   "metadata": {},
   "outputs": [],
   "source": [
    "class Musica:\n",
    "    def __init__(self, nome, artista):\n",
    "        self.nome = ''\n",
    "        self.artista= ''\n",
    "        self.duracao = int\n",
    "    \n",
    "musica1 = Musica(nome = 'Under Pressure' , artista='Queen & David Bowie', duracao=248)\n",
    "musica2 = Musica(nome='The Trooper', artista='Iron Maiden', duracao=245)\n",
    "musica3 = Musica(nome='Hotel California', artista='Eagles', duracao=390)\n",
    "\n",
    "\n",
    "        "
   ]
  },
  {
   "cell_type": "code",
   "execution_count": 5,
   "metadata": {},
   "outputs": [
    {
     "name": "stdout",
     "output_type": "stream",
     "text": [
      "Under Pressure | Queen & David Bowie | 248\n",
      "The Trooper | Iron Maiden | 245\n",
      "Hotel California | Eagles | 390\n"
     ]
    }
   ],
   "source": [
    "class Musica:\n",
    "    musicas = []\n",
    "    def __init__(self, nome, artista, duracao):\n",
    "        self.nome = nome\n",
    "        self.artista= artista\n",
    "        self.duracao = duracao\n",
    "        Musica.musicas.append(self)\n",
    "    def listar_musicas():\n",
    "        for musicas in Musica.musicas:\n",
    "            print(f'{musicas.nome} | {musicas.artista} | {musicas.duracao}')\n",
    "\n",
    "musica1 = Musica(nome = 'Under Pressure' , artista='Queen & David Bowie', duracao=248)\n",
    "musica2 = Musica(nome='The Trooper', artista='Iron Maiden', duracao=245)\n",
    "musica3 = Musica(nome='Hotel California', artista='Eagles', duracao=390)\n",
    "\n",
    "Musica.listar_musicas()"
   ]
  },
  {
   "cell_type": "markdown",
   "metadata": {},
   "source": [
    "##### Exercicio 1"
   ]
  },
  {
   "cell_type": "code",
   "execution_count": 7,
   "metadata": {},
   "outputs": [
    {
     "name": "stdout",
     "output_type": "stream",
     "text": [
      "{'modelo': 'Lancer', 'cor': 'black', 'ano': 2022}\n"
     ]
    }
   ],
   "source": [
    "class Carro:\n",
    "    def __init__(self, modelo, cor, ano):\n",
    "        self.modelo = modelo\n",
    "        self.cor = cor\n",
    "        self.ano = ano\n",
    "carrinho_bao = Carro(modelo='Lancer', cor= 'black', ano=2022)\n",
    "print(carrinho_bao)"
   ]
  },
  {
   "cell_type": "markdown",
   "metadata": {},
   "source": [
    "##### Exercicio 2"
   ]
  },
  {
   "cell_type": "code",
   "execution_count": 13,
   "metadata": {},
   "outputs": [],
   "source": [
    "class Restaurante:\n",
    "    def __init__(self, nome, categoria, principal , regiao, ativo=False):\n",
    "        self.nome= nome\n",
    "        self.categoria = categoria\n",
    "        self.ativo = ativo\n",
    "        self.principal = principal\n",
    "        self.regiao = regiao\n",
    "\n",
    "giraffas = Restaurante(nome='Giraffas', categoria='Brasileira', ativo= False, principal='tradicional Biffão', regiao='Brasil')"
   ]
  },
  {
   "cell_type": "markdown",
   "metadata": {},
   "source": [
    "##### Exercicio 3"
   ]
  },
  {
   "cell_type": "code",
   "execution_count": 5,
   "metadata": {},
   "outputs": [
    {
     "name": "stdout",
     "output_type": "stream",
     "text": [
      "bom sabor | Francesa\n"
     ]
    }
   ],
   "source": [
    "\n",
    "from typing import Any\n",
    "\n",
    "\n",
    "class Restaurante:\n",
    "    def __init__(self, nome, categoria, principal , regiao, ativo=False):\n",
    "        self.nome= nome\n",
    "        self.categoria = categoria\n",
    "        self.ativo = ativo\n",
    "        self.principal = principal\n",
    "        self.regiao = regiao\n",
    "    def __str__(self):\n",
    "        return f'{self.nome} | {self.categoria}'\n",
    "    \n",
    "restaurante_formatado = Restaurante(nome = \"bom sabor\", categoria=\"Francesa\")\n",
    "print(restaurante_formatado)\n",
    "\n",
    "\n",
    "        \n"
   ]
  },
  {
   "cell_type": "code",
   "execution_count": 11,
   "metadata": {},
   "outputs": [
    {
     "name": "stdout",
     "output_type": "stream",
     "text": [
      "julia | 18 | 0 | SP\n",
      "Vinicius | 18 | 250 | SP\n",
      "Gabriel | 20 | 500 | MG\n"
     ]
    }
   ],
   "source": [
    "class Cliente:\n",
    "    def __init__(self, nome, idade, renda, estado):\n",
    "        self.nome = nome\n",
    "        self.idade = idade\n",
    "        self.renda = renda\n",
    "        self.estado = estado\n",
    "    def __str__(self):\n",
    "        return f'{self.nome} | {self.idade} | {self.renda} | {self.estado}'\n",
    "\n",
    "cliente1 = Cliente(nome= \"julia\", idade = 18, renda = 0, estado = \"SP\")\n",
    "cliente2 = Cliente(nome= \"Vinicius\", idade = 18, renda = 250, estado = \"SP\")\n",
    "cliente3 = Cliente(nome= \"Gabriel\", idade = 20, renda = 500, estado = \"MG\")\n",
    "print(cliente1)\n",
    "print(cliente2)\n",
    "print(cliente3)\n"
   ]
  },
  {
   "cell_type": "code",
   "execution_count": 7,
   "metadata": {},
   "outputs": [
    {
     "name": "stdout",
     "output_type": "stream",
     "text": [
      "Informações Iniciais:\n",
      "Alice | 25 anos | Engenheira\n",
      "Luiza | 30 anos | Desenvolvedor\n",
      "Jaque | 22 anos | \n",
      "\n",
      "Informações após aniversário:\n",
      "Alice | 26 anos | Engenheira\n",
      "Jaque | 23 anos | \n",
      "\n",
      "Olá Alice, vi que voce tem 26 e é um Engenheira.\n",
      "Olá Luiza, vi que voce tem 30 e é um Desenvolvedor.\n",
      "Olá, sou Jaque!\n"
     ]
    }
   ],
   "source": [
    "class Pessoa():\n",
    "    def __init__(self, nome = '', idade = 0, profissao = ''):\n",
    "        self.nome = nome\n",
    "        self.idade = idade\n",
    "        self.profissao = profissao\n",
    "    \n",
    "    def __str__(self):\n",
    "        return f'{self.nome} | {self.idade} anos | {self.profissao}'\n",
    "    \n",
    "    \n",
    "    @property\n",
    "    def saudacao(self):\n",
    "        if self.profissao: \n",
    "            return f'Olá {self.nome}, vi que voce tem {self.idade} e é um {self.profissao}.'\n",
    "        else:\n",
    "            return f'Olá, sou {self.nome}!'\n",
    "        \n",
    "    def aniversario(self):\n",
    "        self.idade += 1\n",
    "        \n",
    "pessoa1 = Pessoa(nome='Alice', idade=25, profissao='Engenheira')\n",
    "pessoa2 = Pessoa(nome='Luiza', idade=30, profissao='Desenvolvedor')\n",
    "pessoa3 = Pessoa(nome='Jaque', idade=22)\n",
    "\n",
    "# Imprimindo informações iniciais\n",
    "print(\"Informações Iniciais:\")\n",
    "print(pessoa1)\n",
    "print(pessoa2)\n",
    "print(pessoa3)\n",
    "print()\n",
    "\n",
    "# Utilizando o método de instância aniversario para aumentar a idade de uma pessoa\n",
    "pessoa1.aniversario()\n",
    "pessoa3.aniversario()\n",
    "\n",
    "# Imprimindo informações após aniversário\n",
    "print(\"Informações após aniversário:\")\n",
    "print(pessoa1)\n",
    "print(pessoa3)\n",
    "print()\n",
    "\n",
    "# Utilizando o método de classe saudacao para exibir mensagens personalizadas\n",
    "print(pessoa1.saudacao)\n",
    "print(pessoa2.saudacao)\n",
    "print(pessoa3.saudacao)"
   ]
  },
  {
   "cell_type": "code",
   "execution_count": 14,
   "metadata": {},
   "outputs": [
    {
     "name": "stdout",
     "output_type": "stream",
     "text": [
      "Conta de Ana criada com saldo inicial de R$2000\n"
     ]
    }
   ],
   "source": [
    "class ContaBancaria():\n",
    "    def __init__(self, titular, saldo):\n",
    "        self._titular = titular\n",
    "        self._saldo = saldo\n",
    "        self._ativo = False\n",
    "    \n",
    "    @property\n",
    "    def titular(self):\n",
    "        return self._titular\n",
    "\n",
    "    @property\n",
    "    def saldo(self):\n",
    "        return self._saldo\n",
    "\n",
    "    @property\n",
    "    def ativo(self):\n",
    "        return self._ativo\n",
    "    \n",
    "    \n",
    "    \n",
    "    def __str__(self):\n",
    "        return f'Olá {self.titular}, você tem {self.saldo} de saldo.' \n",
    "    @classmethod\n",
    "    def ativar_conta(cls, conta):\n",
    "        conta._ativo = True\n",
    "\n",
    "\n",
    "\n",
    "class ClienteBanco:\n",
    "    def __init__(self, nome, idade, endereco, cpf, profissao):\n",
    "        self.nome = nome\n",
    "        self.idade = idade\n",
    "        self.endereco = endereco\n",
    "        self.cpf = cpf\n",
    "        self.profissao = profissao\n",
    "\n",
    "    @classmethod\n",
    "    def criar_conta(cls, titular, saldo_inicial):\n",
    "        conta = ContaBancaria(titular, saldo_inicial)\n",
    "        return conta\n",
    "\n",
    "conta_cliente1 = ClienteBanco.criar_conta(\"Ana\", 2000)\n",
    "print(f\"Conta de {conta_cliente1.titular} criada com saldo inicial de R${conta_cliente1.saldo}\")"
   ]
  }
 ],
 "metadata": {
  "kernelspec": {
   "display_name": "Python 3",
   "language": "python",
   "name": "python3"
  },
  "language_info": {
   "codemirror_mode": {
    "name": "ipython",
    "version": 3
   },
   "file_extension": ".py",
   "mimetype": "text/x-python",
   "name": "python",
   "nbconvert_exporter": "python",
   "pygments_lexer": "ipython3",
   "version": "3.12.2"
  }
 },
 "nbformat": 4,
 "nbformat_minor": 2
}
