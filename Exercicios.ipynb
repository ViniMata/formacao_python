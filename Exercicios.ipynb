{
 "cells": [
  {
   "cell_type": "markdown",
   "metadata": {},
   "source": [
    "# Exercicios"
   ]
  },
  {
   "cell_type": "markdown",
   "metadata": {},
   "source": [
    "##### Exercicio 1"
   ]
  },
  {
   "cell_type": "code",
   "execution_count": null,
   "metadata": {},
   "outputs": [],
   "source": [
    "class Musica:\n",
    "    def __init__(self, nome, artista):\n",
    "        self.nome = ''\n",
    "        self.artista= ''\n",
    "        self.duracao = int\n",
    "\n",
    "musica1 = Musica(nome = 'Under Pressure' , artista='Queen & David Bowie', duracao=248)\n",
    "musica2 = Musica(nome='The Trooper', artista='Iron Maiden', duracao=245)\n",
    "musica3 = Musica(nome='Hotel California', artista='Eagles', duracao=390)\n",
    "        "
   ]
  }
 ],
 "metadata": {
  "language_info": {
   "name": "python"
  }
 },
 "nbformat": 4,
 "nbformat_minor": 2
}
