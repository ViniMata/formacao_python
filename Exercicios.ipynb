{
 "cells": [
  {
   "cell_type": "markdown",
   "metadata": {},
   "source": [
    "# Exercicios"
   ]
  },
  {
   "cell_type": "markdown",
   "metadata": {},
   "source": [
    "##### Exercicio 1"
   ]
  },
  {
   "cell_type": "code",
   "execution_count": null,
   "metadata": {},
   "outputs": [],
   "source": [
    "class Musica:\n",
    "    def __init__(self, nome, artista):\n",
    "        self.nome = ''\n",
    "        self.artista= ''\n",
    "        self.duracao = int\n",
    "    \n",
    "musica1 = Musica(nome = 'Under Pressure' , artista='Queen & David Bowie', duracao=248)\n",
    "musica2 = Musica(nome='The Trooper', artista='Iron Maiden', duracao=245)\n",
    "musica3 = Musica(nome='Hotel California', artista='Eagles', duracao=390)\n",
    "\n",
    "\n",
    "        "
   ]
  },
  {
   "cell_type": "code",
   "execution_count": 5,
   "metadata": {},
   "outputs": [
    {
     "name": "stdout",
     "output_type": "stream",
     "text": [
      "Under Pressure | Queen & David Bowie | 248\n",
      "The Trooper | Iron Maiden | 245\n",
      "Hotel California | Eagles | 390\n"
     ]
    }
   ],
   "source": [
    "class Musica:\n",
    "    musicas = []\n",
    "    def __init__(self, nome, artista, duracao):\n",
    "        self.nome = nome\n",
    "        self.artista= artista\n",
    "        self.duracao = duracao\n",
    "        Musica.musicas.append(self)\n",
    "    def listar_musicas():\n",
    "        for musicas in Musica.musicas:\n",
    "            print(f'{musicas.nome} | {musicas.artista} | {musicas.duracao}')\n",
    "\n",
    "musica1 = Musica(nome = 'Under Pressure' , artista='Queen & David Bowie', duracao=248)\n",
    "musica2 = Musica(nome='The Trooper', artista='Iron Maiden', duracao=245)\n",
    "musica3 = Musica(nome='Hotel California', artista='Eagles', duracao=390)\n",
    "\n",
    "Musica.listar_musicas()"
   ]
  },
  {
   "cell_type": "markdown",
   "metadata": {},
   "source": [
    "##### Exercicio 2"
   ]
  },
  {
   "cell_type": "code",
   "execution_count": null,
   "metadata": {},
   "outputs": [],
   "source": []
  }
 ],
 "metadata": {
  "kernelspec": {
   "display_name": "Python 3",
   "language": "python",
   "name": "python3"
  },
  "language_info": {
   "codemirror_mode": {
    "name": "ipython",
    "version": 3
   },
   "file_extension": ".py",
   "mimetype": "text/x-python",
   "name": "python",
   "nbconvert_exporter": "python",
   "pygments_lexer": "ipython3",
   "version": "3.12.2"
  }
 },
 "nbformat": 4,
 "nbformat_minor": 2
}
