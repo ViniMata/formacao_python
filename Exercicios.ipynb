{
 "cells": [
  {
   "cell_type": "markdown",
   "metadata": {},
   "source": [
    "# Exercicios"
   ]
  },
  {
   "cell_type": "markdown",
   "metadata": {},
   "source": [
    "##### Exercicio 0"
   ]
  },
  {
   "cell_type": "code",
   "execution_count": null,
   "metadata": {},
   "outputs": [],
   "source": [
    "class Musica:\n",
    "    def __init__(self, nome, artista):\n",
    "        self.nome = ''\n",
    "        self.artista= ''\n",
    "        self.duracao = int\n",
    "    \n",
    "musica1 = Musica(nome = 'Under Pressure' , artista='Queen & David Bowie', duracao=248)\n",
    "musica2 = Musica(nome='The Trooper', artista='Iron Maiden', duracao=245)\n",
    "musica3 = Musica(nome='Hotel California', artista='Eagles', duracao=390)\n",
    "\n",
    "\n",
    "        "
   ]
  },
  {
   "cell_type": "code",
   "execution_count": 5,
   "metadata": {},
   "outputs": [
    {
     "name": "stdout",
     "output_type": "stream",
     "text": [
      "Under Pressure | Queen & David Bowie | 248\n",
      "The Trooper | Iron Maiden | 245\n",
      "Hotel California | Eagles | 390\n"
     ]
    }
   ],
   "source": [
    "class Musica:\n",
    "    musicas = []\n",
    "    def __init__(self, nome, artista, duracao):\n",
    "        self.nome = nome\n",
    "        self.artista= artista\n",
    "        self.duracao = duracao\n",
    "        Musica.musicas.append(self)\n",
    "    def listar_musicas():\n",
    "        for musicas in Musica.musicas:\n",
    "            print(f'{musicas.nome} | {musicas.artista} | {musicas.duracao}')\n",
    "\n",
    "musica1 = Musica(nome = 'Under Pressure' , artista='Queen & David Bowie', duracao=248)\n",
    "musica2 = Musica(nome='The Trooper', artista='Iron Maiden', duracao=245)\n",
    "musica3 = Musica(nome='Hotel California', artista='Eagles', duracao=390)\n",
    "\n",
    "Musica.listar_musicas()"
   ]
  },
  {
   "cell_type": "markdown",
   "metadata": {},
   "source": [
    "##### Exercicio 1"
   ]
  },
  {
   "cell_type": "code",
   "execution_count": 7,
   "metadata": {},
   "outputs": [
    {
     "name": "stdout",
     "output_type": "stream",
     "text": [
      "{'modelo': 'Lancer', 'cor': 'black', 'ano': 2022}\n"
     ]
    }
   ],
   "source": [
    "class Carro:\n",
    "    def __init__(self, modelo, cor, ano):\n",
    "        self.modelo = modelo\n",
    "        self.cor = cor\n",
    "        self.ano = ano\n",
    "carrinho_bao = Carro(modelo='Lancer', cor= 'black', ano=2022)\n",
    "print(carrinho_bao)"
   ]
  },
  {
   "cell_type": "markdown",
   "metadata": {},
   "source": [
    "##### Exercicio 2"
   ]
  },
  {
   "cell_type": "code",
   "execution_count": 13,
   "metadata": {},
   "outputs": [],
   "source": [
    "class Restaurante:\n",
    "    def __init__(self, nome, categoria, principal , regiao, ativo=False):\n",
    "        self.nome= nome\n",
    "        self.categoria = categoria\n",
    "        self.ativo = ativo\n",
    "        self.principal = principal\n",
    "        self.regiao = regiao\n",
    "\n",
    "giraffas = Restaurante(nome='Giraffas', categoria='Brasileira', ativo= False, principal='tradicional Biffão', regiao='Brasil')"
   ]
  },
  {
   "cell_type": "markdown",
   "metadata": {},
   "source": [
    "##### Exercicio 3"
   ]
  },
  {
   "cell_type": "code",
   "execution_count": 17,
   "metadata": {},
   "outputs": [],
   "source": [
    "class Restaurante:\n",
    "    def __init__(self, nome, categoria,principal, regiao, ativo= False):\n",
    "        self.nome= nome\n",
    "        self.categoria = categoria\n",
    "        self.ativo = ativo\n",
    "        self.principal = principal\n",
    "        self.regiao = regiao\n",
    "    def __str__(self):\n",
    "        return f'{self.nome} | {self.categoria}'\n",
    "\n",
    "\n",
    "\n",
    "        \n"
   ]
  }
 ],
 "metadata": {
  "kernelspec": {
   "display_name": "Python 3",
   "language": "python",
   "name": "python3"
  },
  "language_info": {
   "codemirror_mode": {
    "name": "ipython",
    "version": 3
   },
   "file_extension": ".py",
   "mimetype": "text/x-python",
   "name": "python",
   "nbconvert_exporter": "python",
   "pygments_lexer": "ipython3",
   "version": "3.12.2"
  }
 },
 "nbformat": 4,
 "nbformat_minor": 2
}
